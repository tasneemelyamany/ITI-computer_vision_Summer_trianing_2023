{
 "cells": [
  {
   "cell_type": "code",
   "execution_count": 3,
   "metadata": {},
   "outputs": [
    {
     "name": "stdout",
     "output_type": "stream",
     "text": [
      "20\n"
     ]
    }
   ],
   "source": [
    "#question1\n",
    "born_year = input(\"Enter your birthday year: \")\n",
    "age = 2023- int(born_year)\n",
    "print(age)"
   ]
  },
  {
   "cell_type": "code",
   "execution_count": 6,
   "metadata": {},
   "outputs": [
    {
     "name": "stdout",
     "output_type": "stream",
     "text": [
      "1275 25.5\n"
     ]
    }
   ],
   "source": [
    "#question2\n",
    "number = int(input(\"Please Enter any number: \"))\n",
    "sum = 0\n",
    "for i in range(1, number+1, 1):\n",
    "    sum += i\n",
    "average = float(sum/ number)\n",
    "print(sum , average)"
   ]
  },
  {
   "cell_type": "code",
   "execution_count": 7,
   "metadata": {},
   "outputs": [
    {
     "name": "stdout",
     "output_type": "stream",
     "text": [
      "this number is even\n"
     ]
    }
   ],
   "source": [
    "#question3\n",
    "number = int(input(\"please enter the number u want to check: \"))\n",
    "if(number & 2):\n",
    "    print(\"this number is odd number\")\n",
    "else:\n",
    "    print('this number is even')"
   ]
  },
  {
   "cell_type": "code",
   "execution_count": 9,
   "metadata": {},
   "outputs": [
    {
     "name": "stdout",
     "output_type": "stream",
     "text": [
      "Hello  Tasnim Elyamany! You just delved into python.\n"
     ]
    }
   ],
   "source": [
    "#question4\n",
    "first = input()\n",
    "last = input()\n",
    "print(\"Hello \", first , last +\"! You just delved into python.\")"
   ]
  },
  {
   "cell_type": "code",
   "execution_count": 3,
   "metadata": {},
   "outputs": [
    {
     "name": "stdout",
     "output_type": "stream",
     "text": [
      "this-is-a-string\n"
     ]
    }
   ],
   "source": [
    "#question5 \n",
    "str = input(\"enter the string you want to split: \")\n",
    "str = str.split()\n",
    "str = \"-\".join(str)\n",
    "print(str)"
   ]
  },
  {
   "cell_type": "code",
   "execution_count": 4,
   "metadata": {},
   "outputs": [
    {
     "name": "stdout",
     "output_type": "stream",
     "text": [
      "THIS IS A STRING\n"
     ]
    }
   ],
   "source": [
    "#question6\n",
    "str = input(\"enter the string you want to swap\")\n",
    "print(str.swapcase())"
   ]
  },
  {
   "cell_type": "code",
   "execution_count": 3,
   "metadata": {},
   "outputs": [
    {
     "name": "stdout",
     "output_type": "stream",
     "text": [
      "\u0007\u0007"
     ]
    }
   ],
   "source": [
    "#question7\n",
    "def asciicode(string , length):\n",
    "    num = 0\n",
    "    for i in range(length):\n",
    "        num = num*10 + (ord(string[i])- ord('0'))\n",
    "        if(num <= 32 and num <= 132):\n",
    "            ch = chr(num)\n",
    "            print(ch, end = \"\")\n",
    "            num = 0\n",
    "if __name__ == \"__main__\" :\n",
    "    string=input(\"Enter the String: \")\n",
    "    length = len(string)\n",
    "    asciicode(string, length)"
   ]
  },
  {
   "cell_type": "code",
   "execution_count": 8,
   "metadata": {},
   "outputs": [
    {
     "name": "stdout",
     "output_type": "stream",
     "text": [
      "78.5\n"
     ]
    }
   ],
   "source": [
    "#question8\n",
    "pi = 3.14\n",
    "r = int(input(\"raduis: \"))\n",
    "print(pi * r*r)"
   ]
  },
  {
   "cell_type": "code",
   "execution_count": 6,
   "metadata": {},
   "outputs": [
    {
     "name": "stdout",
     "output_type": "stream",
     "text": [
      "Elyamany Tasnim\n"
     ]
    }
   ],
   "source": [
    "#question9\n",
    "Full_name = input(\"Enter your full name: \")\n",
    "Full_name = Full_name.split()\n",
    "print(Full_name[1], Full_name[0])"
   ]
  },
  {
   "cell_type": "code",
   "execution_count": 7,
   "metadata": {},
   "outputs": [
    {
     "name": "stdout",
     "output_type": "stream",
     "text": [
      "twinkle, twinkle , tasnim: \n",
      "                \"How I wonder How you are!\n",
      "                    Up above the world So high\n",
      "                        like a diamond in the sky\n"
     ]
    }
   ],
   "source": [
    "#question10\n",
    "name = input()\n",
    "twinkle = \"\"\"twinkle, twinkle , {}: \n",
    "                \"How I wonder How you are!\n",
    "                    Up above the world So high\n",
    "                        like a diamond in the sky\"\"\"\n",
    "print(twinkle.format(name))"
   ]
  }
 ],
 "metadata": {
  "kernelspec": {
   "display_name": "Python 3",
   "language": "python",
   "name": "python3"
  },
  "language_info": {
   "codemirror_mode": {
    "name": "ipython",
    "version": 3
   },
   "file_extension": ".py",
   "mimetype": "text/x-python",
   "name": "python",
   "nbconvert_exporter": "python",
   "pygments_lexer": "ipython3",
   "version": "3.11.4"
  },
  "orig_nbformat": 4
 },
 "nbformat": 4,
 "nbformat_minor": 2
}
