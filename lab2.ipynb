{
 "cells": [
  {
   "cell_type": "code",
   "execution_count": 1,
   "metadata": {},
   "outputs": [
    {
     "name": "stdout",
     "output_type": "stream",
     "text": [
      "0\n"
     ]
    }
   ],
   "source": [
    "#question1 \n",
    "n = int(input(\"enter number\"))\n",
    "n = n % 10\n",
    "print(n)"
   ]
  },
  {
   "cell_type": "code",
   "execution_count": 2,
   "metadata": {},
   "outputs": [
    {
     "name": "stdout",
     "output_type": "stream",
     "text": [
      "divisible by three\n"
     ]
    }
   ],
   "source": [
    "#question2\n",
    "n = int(input(\"enter number\"))\n",
    "n %= 10\n",
    "if(n % 3 == 0):\n",
    "    print('divisible by three')\n",
    "else:\n",
    "    print(\"it is not divisible by three\")"
   ]
  },
  {
   "cell_type": "code",
   "execution_count": 4,
   "metadata": {},
   "outputs": [
    {
     "name": "stdout",
     "output_type": "stream",
     "text": [
      "tuesday\n"
     ]
    }
   ],
   "source": [
    "#question3\n",
    "dict1 = { 1 : 'sunday',\n",
    "         2:'monday',\n",
    "         3: 'tuesday',\n",
    "         4: 'wednesday',\n",
    "         5: 'thursday',\n",
    "         6: 'friday',\n",
    "         7:'saturday'\n",
    "}\n",
    "n = int(input(\"enter a number from 1 to 7: \"))\n",
    "while(n >= 1 and n <= 7):\n",
    "    print ( dict1[int(n)] )\n",
    "    break"
   ]
  },
  {
   "cell_type": "code",
   "execution_count": 5,
   "metadata": {},
   "outputs": [
    {
     "name": "stdout",
     "output_type": "stream",
     "text": [
      "it is not vowel\n"
     ]
    }
   ],
   "source": [
    "#question4\n",
    "vowels = ['a', 'o', 'i', 'e', 'u']\n",
    "c = input(\"enter the character you want to check: \")\n",
    "if c in vowels :\n",
    "    print(\"it is vowel\")\n",
    "else:\n",
    "    print(\"it is not vowel\")"
   ]
  },
  {
   "cell_type": "code",
   "execution_count": 6,
   "metadata": {},
   "outputs": [
    {
     "name": "stdout",
     "output_type": "stream",
     "text": [
      "2700.0\n"
     ]
    }
   ],
   "source": [
    "#question5\n",
    "marked_price = int(input(\"enter the price: \"))\n",
    "if(marked_price > 10000):\n",
    "    discount = 0.2 * marked_price\n",
    "elif(marked_price > 7000 and marked_price <= 10000):\n",
    "    discount = 0.15 * marked_price\n",
    "else:\n",
    "    discount = 0.1 * marked_price\n",
    "print(marked_price-discount)"
   ]
  },
  {
   "cell_type": "code",
   "execution_count": 7,
   "metadata": {},
   "outputs": [
    {
     "name": "stdout",
     "output_type": "stream",
     "text": [
      "Element at index 1 is: 20\n",
      "Element at index 3 is: 40\n",
      "Element at index 5 is: 60\n",
      "Element at index 7 is: 80\n",
      "Element at index 9 is: 100\n"
     ]
    }
   ],
   "source": [
    "#question6 \n",
    "lst = [10, 20, 30, 40, 50, 60, 70, 80, 90, 100]\n",
    "for i in range(1, len(lst), 2):\n",
    "    print(\"Element at index\",i,\"is:\", lst[i])"
   ]
  },
  {
   "cell_type": "code",
   "execution_count": 15,
   "metadata": {},
   "outputs": [
    {
     "name": "stdout",
     "output_type": "stream",
     "text": [
      "1 \n",
      "\n",
      "1 2 \n",
      "\n",
      "1 2 3 \n",
      "\n",
      "1 2 3 4 \n",
      "\n"
     ]
    }
   ],
   "source": [
    "#question7\n",
    "\n",
    "for i in range (1, 5):\n",
    "    for j in range (1, i+1):\n",
    "        print(j, end= \" \")\n",
    "    print(\"\\n\")"
   ]
  },
  {
   "cell_type": "code",
   "execution_count": 17,
   "metadata": {},
   "outputs": [
    {
     "name": "stdout",
     "output_type": "stream",
     "text": [
      "the sum of the numbers :  18 and the average of the numbers:  4.5\n"
     ]
    }
   ],
   "source": [
    "#question8\n",
    "sum = 0\n",
    "number = int(input(\"\"))\n",
    "count = 1\n",
    "while(number):\n",
    "    sum += number\n",
    "    number = int(input(\"enter a number again: \"))\n",
    "    count += 1\n",
    "print(\"the sum of the numbers : \", sum , \"and the average of the numbers: \" , sum/count)"
   ]
  },
  {
   "cell_type": "code",
   "execution_count": 19,
   "metadata": {},
   "outputs": [
    {
     "data": {
      "text/plain": [
       "[4, 6, 8, 10, 12, 14, 16, 18, 20, 22, 24, 26, 28]"
      ]
     },
     "execution_count": 19,
     "metadata": {},
     "output_type": "execute_result"
    }
   ],
   "source": [
    "#question9\n",
    "list1 = []\n",
    "for i in range(4,30,2):\n",
    "    list1.append(i)\n",
    "list1"
   ]
  },
  {
   "cell_type": "code",
   "execution_count": 22,
   "metadata": {},
   "outputs": [
    {
     "name": "stdout",
     "output_type": "stream",
     "text": [
      "10\n",
      "300\n"
     ]
    }
   ],
   "source": [
    "#question 10\n",
    "def min_num(list):\n",
    "    mini = 1e7\n",
    "    for num in list:\n",
    "        if(num < mini):\n",
    "            mini = num\n",
    "    return mini\n",
    "\n",
    "def max_num(list):\n",
    "    maxi = -40000\n",
    "    for num in list:\n",
    "        if (maxi < num) :\n",
    "            maxi= num\n",
    "    return maxi\n",
    "\n",
    "print(min_num([100,30,22,40,60,20,10,300]))\n",
    "print(max_num([100,30,22,40,60,20,10,300]))\n"
   ]
  },
  {
   "cell_type": "code",
   "execution_count": 1,
   "metadata": {},
   "outputs": [
    {
     "name": "stdout",
     "output_type": "stream",
     "text": [
      "0\n",
      "1\n",
      "4\n",
      "9\n"
     ]
    }
   ],
   "source": [
    "#loops problem\n",
    "n = int(input(\"enter a number: \"))\n",
    "for i in range(n):\n",
    "    print(i*i)"
   ]
  },
  {
   "cell_type": "code",
   "execution_count": 2,
   "metadata": {},
   "outputs": [
    {
     "name": "stdout",
     "output_type": "stream",
     "text": [
      "True\n"
     ]
    }
   ],
   "source": [
    "#write a function problem:\n",
    "def leap_year(n):\n",
    "    if(n%4 == 0):\n",
    "        return True\n",
    "    else:\n",
    "        return False\n",
    "    \n",
    "if __name__ == \"__main__\" :\n",
    "    n = int(input(\"enter the year you want to check: \"))\n",
    "    print (leap_year(n))"
   ]
  },
  {
   "cell_type": "code",
   "execution_count": 3,
   "metadata": {},
   "outputs": [
    {
     "name": "stdout",
     "output_type": "stream",
     "text": [
      "Not Weird\n"
     ]
    }
   ],
   "source": [
    "#python if_else statment problem:\n",
    "n = int(input(\"enter a number: \"))\n",
    "if(n & 1):\n",
    "    print(\"Weird\")\n",
    "else:\n",
    "    if(n >= 2 and n <= 5):\n",
    "        print(\"Not Weird\")\n",
    "    elif(n >= 6 and n <= 20):\n",
    "        print(\"Weird\")\n",
    "    else:\n",
    "        print(\"Not Weird\")"
   ]
  }
 ],
 "metadata": {
  "kernelspec": {
   "display_name": "Python 3",
   "language": "python",
   "name": "python3"
  },
  "language_info": {
   "codemirror_mode": {
    "name": "ipython",
    "version": 3
   },
   "file_extension": ".py",
   "mimetype": "text/x-python",
   "name": "python",
   "nbconvert_exporter": "python",
   "pygments_lexer": "ipython3",
   "version": "3.11.4"
  },
  "orig_nbformat": 4
 },
 "nbformat": 4,
 "nbformat_minor": 2
}
