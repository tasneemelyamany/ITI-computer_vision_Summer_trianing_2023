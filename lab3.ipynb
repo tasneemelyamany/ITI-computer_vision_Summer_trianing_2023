{
 "cells": [
  {
   "cell_type": "code",
   "execution_count": 1,
   "metadata": {},
   "outputs": [],
   "source": [
    "#question1\n",
    "class Vehicle:\n",
    "    def __init__(self, name, max_speed, mileage):\n",
    "        self.name = name\n",
    "        self.max_speed = max_speed\n",
    "        self.mileage = mileage"
   ]
  },
  {
   "cell_type": "code",
   "execution_count": 2,
   "metadata": {},
   "outputs": [],
   "source": [
    "#question2 \n",
    "class bus(Vehicle):\n",
    "    def __init__(self):\n",
    "        super().__init__()"
   ]
  },
  {
   "cell_type": "code",
   "execution_count": 3,
   "metadata": {},
   "outputs": [],
   "source": [
    "#question3\n",
    "class Vehicle:\n",
    "    def __init__(self, name, max_speed, mileage):\n",
    "        self.name = name\n",
    "        self.max_speed = max_speed\n",
    "        self.mileage = mileage\n",
    "    def seating_capacity(capacity):\n",
    "        print(\"The seating capacity of a {} is {} passengers\".format(self.name, capacity))"
   ]
  },
  {
   "cell_type": "code",
   "execution_count": 7,
   "metadata": {},
   "outputs": [
    {
     "name": "stdout",
     "output_type": "stream",
     "text": [
      "Ford\n",
      "The seating capacity of a Ford is 50 passengers\n"
     ]
    }
   ],
   "source": [
    "#question4\n",
    "class Vehicle:\n",
    "    def __init__(self, name, max_speed, mileage):\n",
    "        self.name = name\n",
    "        self.max_speed = max_speed\n",
    "        self.mileage = mileage\n",
    "    def seating_capacity(self, capacity = 50):\n",
    "        print(\"The seating capacity of a {} is {} passengers\".format(self.name, capacity))\n",
    "\n",
    "car1=Vehicle('Ford',289,'37') #creating an object\n",
    "print(car1.name)\n",
    "car1.seating_capacity()"
   ]
  },
  {
   "cell_type": "code",
   "execution_count": 14,
   "metadata": {},
   "outputs": [
    {
     "data": {
      "text/plain": [
       "6000"
      ]
     },
     "execution_count": 14,
     "metadata": {},
     "output_type": "execute_result"
    }
   ],
   "source": [
    "#question5 \n",
    "class bus(Vehicle):\n",
    "    def __init__(self, name, max_speed, mileage, capacity = 50):\n",
    "        super().__init__(name, max_speed, mileage)\n",
    "        self.capacity=capacity\n",
    "    def fare(self):\n",
    "        return (self. capacity*100)\n",
    "    \n",
    "bus1 = bus('micro', 300, 'Range Rouver', 60)\n",
    "bus1.fare()"
   ]
  }
 ],
 "metadata": {
  "kernelspec": {
   "display_name": "base",
   "language": "python",
   "name": "python3"
  },
  "language_info": {
   "codemirror_mode": {
    "name": "ipython",
    "version": 3
   },
   "file_extension": ".py",
   "mimetype": "text/x-python",
   "name": "python",
   "nbconvert_exporter": "python",
   "pygments_lexer": "ipython3",
   "version": "3.9.12"
  },
  "orig_nbformat": 4
 },
 "nbformat": 4,
 "nbformat_minor": 2
}
