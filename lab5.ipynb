{
 "cells": [
  {
   "cell_type": "code",
   "execution_count": 2,
   "metadata": {},
   "outputs": [
    {
     "data": {
      "text/plain": [
       "<matplotlib.image.AxesImage at 0x1adc43e80d0>"
      ]
     },
     "execution_count": 2,
     "metadata": {},
     "output_type": "execute_result"
    },
    {
     "data": {
      "image/png": "[encoded data removed]",
      "text/plain": [
       "<Figure size 640x480 with 1 Axes>"
      ]
     },
     "metadata": {},
     "output_type": "display_data"
    }
   ],
   "source": [
    "# question 1\n",
    "import cv2 as cv \n",
    "from matplotlib import pyplot as plt\n",
    "import numpy as np\n",
    "\n",
    "img = np.zeros((100,100, 3), np.uint8)\n",
    "img[:] = (255, 255, 255)\n",
    "for i , row in enumerate(img):\n",
    "    for j , col in enumerate(row):\n",
    "        if i == j:\n",
    "            img[i,j] = 0\n",
    "\n",
    "plt.imshow(img, cmap = 'gray')\n"
   ]
  },
  {
   "cell_type": "code",
   "execution_count": 3,
   "metadata": {},
   "outputs": [],
   "source": [
    "#question2\n",
    "cap=cv.VideoCapture(0)\n",
    "count = 0\n",
    "while (cap.isOpened()):\n",
    "    state,frame=cap.read()\n",
    "    if state==True:\n",
    "        cv.imshow('my_cam',frame)\n",
    "        k=cv.waitKey(1)\n",
    "        if k== ord('q'):\n",
    "            break\n",
    "        elif k==ord('s'):\n",
    "            count = int(count)\n",
    "            count+=1\n",
    "            count = str(count)\n",
    "            cv.imwrite('img'+count+'.png',frame)\n",
    "            \n",
    "\n",
    "    else:\n",
    "        print(\"fail read frame\")\n",
    "        break\n",
    "cap.release()\n",
    "cv.destroyAllWindows()"
   ]
  },
  {
   "cell_type": "code",
   "execution_count": 8,
   "metadata": {},
   "outputs": [],
   "source": [
    "#question3\n",
    "img1 = np.zeros((100,100,3), np.uint8)\n",
    "cv.namedWindow('image')\n",
    "def nothing(x):\n",
    "    pass\n",
    "cv.createTrackbar('Red', 'image', 0 , 255, nothing)\n",
    "cv.createTrackbar('Green', 'image', 0 , 255, nothing)\n",
    "cv.createTrackbar('Blue', 'image', 0 , 255, nothing)\n",
    "while 1:\n",
    "    red = cv.getTrackbarPos('Red', 'image')\n",
    "    green = cv.getTrackbarPos('Green', 'image')\n",
    "    blue = cv.getTrackbarPos('Blue', 'image')\n",
    "    img1 = np.zeros((100,100,3), np.uint8)\n",
    "    for i , row in enumerate(img1):\n",
    "        for j , col in enumerate(row):\n",
    "            if i == j:\n",
    "                img1[i,j] = (red, green , blue)\n",
    "    cv.imshow('image', img1)\n",
    "    k=cv.waitKey(1)\n",
    "    if k==ord('q'):\n",
    "        break\n",
    "cv.destroyAllWindows()\n",
    "\n",
    "    "
   ]
  },
  {
   "cell_type": "code",
   "execution_count": 10,
   "metadata": {},
   "outputs": [],
   "source": [
    "#question 4 \n",
    "img2 = np.zeros((100,100,3),np.uint8)\n",
    "def nothing(x):\n",
    "    pass\n",
    "cv.namedWindow('image')\n",
    "cv.createTrackbar('horz', 'image', 0 , 255, nothing)\n",
    "cv.createTrackbar('vert', 'image', 0 , 255, nothing)\n",
    "while True:\n",
    "    horz = cv.getTrackbarPos('horz', 'image')\n",
    "    vert = cv.getTrackbarPos('vert','image' )\n",
    "    img2[50,:] = horz\n",
    "    img2[:,50] = vert\n",
    "\n",
    "    cv.imshow('image', img2)\n",
    "    k=cv.waitKey(1)\n",
    "    if k==ord('q'):\n",
    "        break\n",
    "cv.destroyAllWindows()"
   ]
  },
  {
   "cell_type": "code",
   "execution_count": 4,
   "metadata": {},
   "outputs": [],
   "source": [
    "#question5\n",
    "img3=np.zeros((256,256,3),np.uint8)\n",
    "\n",
    "cv.namedWindow('my_image')\n",
    "\n",
    "def nothing(x):\n",
    "    pass\n",
    "\n",
    "cv.createTrackbar('row','my_image',0,255,nothing)\n",
    "cv.createTrackbar('col','my_image',0,255,nothing)\n",
    "while True :\n",
    "    row=cv.getTrackbarPos('row','my_image')\n",
    "    col=cv.getTrackbarPos('col','my_image')\n",
    "    img3=np.zeros((256,256,3),np.uint8)\n",
    "    img3[row,:]=(0,0,255)\n",
    "    img3[:,col]=(0,0,255)\n",
    "    cv.imshow(\"my_image\",img3)\n",
    "    k = cv.waitKey(1)\n",
    "    if k == ord('q'):\n",
    "        break\n",
    "cv.destroyAllWindows()"
   ]
  },
  {
   "cell_type": "code",
   "execution_count": null,
   "metadata": {},
   "outputs": [],
   "source": []
  }
 ],
 "metadata": {
  "kernelspec": {
   "display_name": "Python 3",
   "language": "python",
   "name": "python3"
  },
  "language_info": {
   "codemirror_mode": {
    "name": "ipython",
    "version": 3
   },
   "file_extension": ".py",
   "mimetype": "text/x-python",
   "name": "python",
   "nbconvert_exporter": "python",
   "pygments_lexer": "ipython3",
   "version": "3.11.4"
  },
  "orig_nbformat": 4
 },
 "nbformat": 4,
 "nbformat_minor": 2
}
