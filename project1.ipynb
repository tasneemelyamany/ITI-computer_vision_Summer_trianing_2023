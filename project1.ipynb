{
 "cells": [
  {
   "cell_type": "code",
   "execution_count": 207,
   "metadata": {},
   "outputs": [],
   "source": [
    "import cv2 as cv\n",
    "import numpy as np\n",
    "from matplotlib import pyplot as plt\n",
    "import math \n",
    "import datetime"
   ]
  },
  {
   "cell_type": "code",
   "execution_count": 208,
   "metadata": {},
   "outputs": [],
   "source": [
    "Center = (400,400)"
   ]
  },
  {
   "cell_type": "code",
   "execution_count": 209,
   "metadata": {},
   "outputs": [],
   "source": [
    "def ticks():\n",
    "\thoursinit = []\n",
    "\thoursdest = []\n",
    "\n",
    "\tfor i in range(0,360,6):\n",
    "\t\tx_coordinate = int(Center[0] + 200 * math.cos(i * math.pi / 180))\n",
    "\t\ty_coordinate = int(Center[1] + 200 * math.sin(i * math.pi / 180))\n",
    "\n",
    "\t\thoursinit.append((x_coordinate,y_coordinate))\n",
    "\n",
    "\tfor i in range(0,360,6):\n",
    "\t\tx_coordinate = int(Center[0] + (200-20) * math.cos(i * math.pi / 180))\n",
    "\t\ty_coordinate = int(Center[1] + (200-20) * math.sin(i * math.pi / 180))\n",
    "\n",
    "\t\thoursdest.append((x_coordinate,y_coordinate))\n",
    "\n",
    "\treturn hoursinit, hoursdest"
   ]
  },
  {
   "cell_type": "code",
   "execution_count": 210,
   "metadata": {},
   "outputs": [],
   "source": [
    "def getDigitalTime(hours,mins,sec):\n",
    "\ttime = \"\"\n",
    "\thour = \"\"\n",
    "\tminute = \"\"\n",
    "\tsecond = \"\"\n",
    "\tif(hours<10):\n",
    "\t\thour = \"0{}:\".format(hours)\n",
    "\telse:\n",
    "\t\thour = \"{}:\".format(hours)\n",
    "\tif(mins<10):\n",
    "\t\tminute = \"0{}:\".format(mins)\n",
    "\telse:\n",
    "\t\tminute = \"{}:\".format(mins)\n",
    "\tif(sec<10):\n",
    "\t\tsecond = \"0{}\".format(sec)\n",
    "\telse:\n",
    "\t\tsecond = \"{}\".format(sec)\n",
    "\ttime = hour+minute+second\n",
    "\treturn time"
   ]
  },
  {
   "cell_type": "code",
   "execution_count": 211,
   "metadata": {},
   "outputs": [],
   "source": [
    "def draw_time(image):\n",
    "\ttime_now = datetime.datetime.now().time()\n",
    "\thour = math.fmod(time_now.hour, 12)\n",
    "\tminute = time_now.minute\n",
    "\tsecond = time_now.second\n",
    "\t#math.fmod(second * 6 + 270, 360) #math.radians(second * 6 - 90) #2*math.pi*second/60-math.pi/6.0\n",
    "\tsecond_angle = math.radians(second * 6 - 90)\n",
    "\tminute_angle = math.fmod(minute * 6 + 270, 360)\n",
    "\thour_angle = math.fmod((hour*30) + (minute/2) + 270, 360)\n",
    "\n",
    "\tmill_second_x = int(Center[0] + (175) * math.cos(second_angle)) # radius - 25 for seconds' arrow x \n",
    "\tmill_second_y = int(Center[1] + (175) * math.sin(second_angle))  # radius - 25 for seconds' arrow y\n",
    "\tcv.line(image, Center, (mill_second_x, mill_second_y), (255,255,255), 2)\n",
    "\n",
    "\tminute_x = int(Center[0] + (140) * math.cos(minute_angle * math.pi / 180)) # radius - 60 for minutes' arrow x \n",
    "\tminute_y = int(Center[1] + (140) * math.sin(minute_angle * math.pi / 180)) # radius - 60 for minutes' arrow u\n",
    "\tcv.line(image, Center, (minute_x, minute_y), (255,255,0), 3)\n",
    "\n",
    "\thour_x = int(Center[0] + (100) * math.cos(hour_angle * math.pi / 180))\n",
    "\thour_y = int(Center[1] + (100) * math.sin(hour_angle * math.pi / 180))\n",
    "\tcv.line(image, Center, (hour_x, hour_y), (255,255,0), 7)\n",
    "\n",
    "\tcv.circle(image, Center, 5, (200,200,200), -1)\n",
    "\n",
    "\ttime = getDigitalTime(int(hour),minute,second)\n",
    "\n",
    "\tcv.putText(image,time, (100,100), cv.FONT_HERSHEY_DUPLEX, 1.6, (0,0,255), 1, cv.LINE_AA)\n",
    "\n",
    "\treturn image"
   ]
  },
  {
   "cell_type": "code",
   "execution_count": 212,
   "metadata": {},
   "outputs": [],
   "source": [
    "hoursinit, hoursdest = ticks()\n",
    "img = np.zeros((800,800,3), np.uint8)\n",
    "count = 3\n",
    "for i in range(len(hoursinit)):\n",
    "\tif i % 5 == 0:\n",
    "\t\t(x,y) = hoursdest[i]\n",
    "\t\tcv.line(img, hoursinit[i], hoursdest[i],(255,255,255), 3)\n",
    "\t\tif(count != 12):\n",
    "\t\t\tcv.putText(img, str(count % 12),(x+5, y+5),cv.FONT_HERSHEY_COMPLEX_SMALL,2, (255,255,255),2,cv.LINE_AA)\n",
    "\t\telse:\n",
    "\t\t\tcv.putText(img, \"12\",(x+5, y+5),cv.FONT_HERSHEY_COMPLEX_SMALL,2, (255,255,255),2,cv.LINE_AA)\n",
    "\t\tcount+=1\n",
    "\telse:\n",
    "\t\tcv.circle(img, hoursdest[i], 5, (200,200,200), -1)\n",
    "#Run until user stops\n",
    "while True:\n",
    "\timage_original = img.copy()\n",
    "\n",
    "\t#Use draw time to make clock hands on the canvas\n",
    "\tclock_face = draw_time(image_original)\n",
    "\n",
    "\t#Show the watch\n",
    "\tcv.imshow('clock', image_original)\n",
    "\tk = cv.waitKey(1)\n",
    "\tif(k==ord('q')):\n",
    "\t\tbreak\n",
    "\n",
    "cv.destroyAllWindows()"
   ]
  },
  {
   "cell_type": "code",
   "execution_count": null,
   "metadata": {},
   "outputs": [],
   "source": []
  }
 ],
 "metadata": {
  "kernelspec": {
   "display_name": "Python 3",
   "language": "python",
   "name": "python3"
  },
  "language_info": {
   "codemirror_mode": {
    "name": "ipython",
    "version": 3
   },
   "file_extension": ".py",
   "mimetype": "text/x-python",
   "name": "python",
   "nbconvert_exporter": "python",
   "pygments_lexer": "ipython3",
   "version": "3.11.4"
  },
  "orig_nbformat": 4
 },
 "nbformat": 4,
 "nbformat_minor": 2
}
